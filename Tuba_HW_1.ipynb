{
 "cells": [
  {
   "cell_type": "markdown",
   "metadata": {},
   "source": [
    "# Math761-01: Template for Computer-Based HW\n",
    "## Tuba Senbabaoglu\n",
    "### 02/04/2020\n",
    "\n",
    "---------------\n",
    "\n"
   ]
  },
  {
   "cell_type": "markdown",
   "metadata": {},
   "source": [
    "### Exercise 1.\n",
    "\n",
    "Goal of this exercise: get practice modifying text in the Jupyter Notebook.\n",
    "\n",
    "For this first exercise, please change the beginning of this document so that ***name*** is your name, the date is today's date and the section is your class section!\n",
    "\n"
   ]
  },
  {
   "cell_type": "markdown",
   "metadata": {},
   "source": [
    "### Exercise 2.\n",
    "\n",
    "Goal of this exercise: get practice with \"markdown\" formatting to format your text.\n",
    "\n",
    "For this exercise, please do the following:\n",
    "\n",
    "1. Read [this description](https://medium.com/ibm-data-science-experience/markdown-for-jupyter-notebooks-cheatsheet-386c05aeebed) of markdown shortcuts, paying attention to the sections \"Headers\" and \"Emphasis\"\n",
    "2. __Change this sentence from italics to bold__\n",
    "3. Change the following sentence from heading 1 to heading 3:\n",
    "\n",
    "### We use heading 3 for exercise labels!"
   ]
  },
  {
   "cell_type": "markdown",
   "metadata": {},
   "source": [
    "### Exercise 3\n",
    "\n",
    "Goal of this exercise: check your R set-up is working properly and get used to running R code in Jupyter Notebook.\n",
    "\n",
    "For this exercise, change the number in the following code block so that ```set.seed(<NUMBER>)``` has the number 42 (not 1).\n",
    "\n",
    "Then run the code to update the plot.\n"
   ]
  },
  {
   "cell_type": "code",
   "execution_count": 2,
   "metadata": {},
   "outputs": [
    {
     "data": {
      "image/png": "[encoded data removed]",
      "text/plain": [
       "Plot with title “Plot of random numbers”"
      ]
     },
     "metadata": {},
     "output_type": "display_data"
    }
   ],
   "source": [
    "set.seed(42)\n",
    "x <- rnorm(20)\n",
    "\n",
    "plot(sort(x), main= \"Plot of random numbers\", xlab = \"sorted numbers\", ylab = \"values\")"
   ]
  },
  {
   "cell_type": "markdown",
   "metadata": {},
   "source": [
    "### Exercise 4\n",
    "\n",
    "Goal of this exercise: get practice with LaTeX formatting to format your mathematical equations. Some of my best students usually learn this on their own because they're interested. This time, I thought I'd give you some help.\n",
    "\n",
    "For this exercise, please do the following:\n",
    "\n",
    "1. Read [this description](https://jupyter-notebook.readthedocs.io/en/stable/examples/Notebook/Working%20With%20Markdown%20Cells.html#LaTeX-equations) of using LaTeX in Jupyter Notebook to make pretty mathematical equations.\n",
    "\n",
    "\n",
    "2. Look at [these LaTeX commands](http://web.ift.uib.no/Teori/KURS/WRK/TeX/symALL.html) and change the following equations:\n",
    "\n",
    "    a. Correct this equation: $ 2+2 = 4.$\n",
    "    \n",
    "    b. Replace the _gamma_ symbols here with _lambda_ symbols.\n",
    "    \n",
    "    $$ f_X(x) = \\frac{\\lambda^x}{x!} e^{-\\lambda}$$\n",
    "    \n",
    "    c. Here's a really hard one! Use LaTeX to re-create [this equation](https://wikimedia.org/api/rest_v1/media/math/render/svg/d40bd2656c5d261718de71dc3c623e3669bcc480)\n",
    "    \n",
    "     $$ {\\Gamma}(z) = \\int_{0}^{\\infty}x^{z-1}e^{-x}dx$$\n",
    "\n"
   ]
  },
  {
   "cell_type": "markdown",
   "metadata": {},
   "source": [
    "### Submission\n",
    "\n",
    "Remember to submit this file of yours to iLearn so you get credit for doing it!\n",
    "\n",
    "### Congratulations, you've done the first piece of hard work for this class: figuring out important software we'll repeatedly use!"
   ]
  },
  {
   "cell_type": "code",
   "execution_count": null,
   "metadata": {},
   "outputs": [],
   "source": []
  }
 ],
 "metadata": {
  "kernelspec": {
   "display_name": "R",
   "language": "R",
   "name": "ir"
  },
  "language_info": {
   "codemirror_mode": "r",
   "file_extension": ".r",
   "mimetype": "text/x-r-source",
   "name": "R",
   "pygments_lexer": "r",
   "version": "3.6.2"
  }
 },
 "nbformat": 4,
 "nbformat_minor": 2
}
